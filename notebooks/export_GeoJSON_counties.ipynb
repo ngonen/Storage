{
  "nbformat": 4,
  "nbformat_minor": 0,
  "metadata": {
    "colab": {
      "name": "GeoJSON County Export",
      "provenance": [],
      "collapsed_sections": [],
      "toc_visible": true,
      "history_visible": true,
      "include_colab_link": true
    },
    "kernelspec": {
      "name": "python3",
      "display_name": "Python 3"
    }
  },
  "cells": [
    {
      "cell_type": "markdown",
      "metadata": {
        "id": "view-in-github",
        "colab_type": "text"
      },
      "source": [
        "<a href=\"https://colab.research.google.com/github/ngonen/Storage/blob/master/notebooks/export_GeoJSON_counties.ipynb\" target=\"_parent\"><img src=\"https://colab.research.google.com/assets/colab-badge.svg\" alt=\"Open In Colab\"/></a>"
      ]
    },
    {
      "cell_type": "markdown",
      "metadata": {
        "id": "FpvUQFLcAvBS"
      },
      "source": [
        "# Generate geo-json files from [US Census Bureau data](https://www.census.gov/geographies/mapping-files/time-series/geo/carto-boundary-file.html).\n",
        "\n",
        "License: Apache 2"
      ]
    },
    {
      "cell_type": "code",
      "metadata": {
        "id": "E27BDA3Wkt2r",
        "colab": {
          "base_uri": "https://localhost:8080/"
        },
        "outputId": "1ce18a3c-a615-4835-ddf9-d5778769c875"
      },
      "source": [
        "!pip install --quiet kml2geojson"
      ],
      "execution_count": 1,
      "outputs": [
        {
          "output_type": "stream",
          "text": [
            "  Building wheel for kml2geojson (setup.py) ... \u001b[?25l\u001b[?25hdone\n"
          ],
          "name": "stdout"
        }
      ]
    },
    {
      "cell_type": "code",
      "metadata": {
        "id": "Z4W9VyvVlITU"
      },
      "source": [
        "import io\n",
        "import copy\n",
        "import json\n",
        "import urllib.request\n",
        "import xml.dom.minidom\n",
        "import zipfile\n",
        "\n",
        "import kml2geojson\n",
        "import lxml.etree"
      ],
      "execution_count": 2,
      "outputs": []
    },
    {
      "cell_type": "code",
      "metadata": {
        "id": "brLcrAnguwTf"
      },
      "source": [
        "def parse_broken_kml(contents):\n",
        "    fixing_tree = lxml.etree.fromstring(\n",
        "        contents, parser=lxml.etree.XMLParser(recover=True))\n",
        "    tree = xml.dom.minidom.parseString(lxml.etree.tostring(fixing_tree))\n",
        "    return kml2geojson.build_layers(tree)"
      ],
      "execution_count": 3,
      "outputs": []
    },
    {
      "cell_type": "code",
      "metadata": {
        "id": "z90W_3Kk_Qnc"
      },
      "source": [
        "def read_2018_census_kml(filename):\n",
        "  url = \"https://www2.census.gov/geo/tiger/GENZ2018/kml/\" + filename + \".zip\"\n",
        "  with urllib.request.urlopen(url) as infile:\n",
        "    buffer = io.BytesIO(infile.read())\n",
        "  return zipfile.ZipFile(buffer).read(filename + \".kml\")"
      ],
      "execution_count": 4,
      "outputs": []
    },
    {
      "cell_type": "code",
      "metadata": {
        "id": "M4PMF6vjlLS3"
      },
      "source": [
        "raw_states = parse_broken_kml(read_2018_census_kml(\"cb_2018_us_state_20m\"))[0]"
      ],
      "execution_count": 5,
      "outputs": []
    },
    {
      "cell_type": "code",
      "metadata": {
        "id": "9wERTTlO8grY"
      },
      "source": [
        "states = copy.deepcopy(raw_states)\n",
        "for entry in states[\"features\"]:\n",
        "  props = entry[\"properties\"]\n",
        "  props.pop(\"ALAND\")\n",
        "  props.pop(\"AWATER\")\n",
        "  props[\"is_a_state\"] = True\n",
        "  props[\"state_id\"] = int(entry[\"properties\"].pop(\"GEOID\"))\n",
        "  props[\"name\"] = props.pop(\"NAME\")\n",
        "  props.pop(\"STATEFP\")\n",
        "  props.pop(\"STATENS\")\n",
        "  props.pop(\"LSAD\")\n",
        "  props.pop(\"description\")\n",
        "  props.pop(\"styleUrl\")"
      ],
      "execution_count": 6,
      "outputs": []
    },
    {
      "cell_type": "code",
      "metadata": {
        "id": "CG_xF6Ck63eW"
      },
      "source": [
        "raw_counties = parse_broken_kml(read_2018_census_kml(\"cb_2018_us_county_20m\"))[0]"
      ],
      "execution_count": 7,
      "outputs": []
    },
    {
      "cell_type": "code",
      "metadata": {
        "id": "sZNq7Al38dMF"
      },
      "source": [
        "counties = copy.deepcopy(raw_counties)\n",
        "for entry in counties[\"features\"]:\n",
        "  props = entry[\"properties\"]\n",
        "  props.pop(\"ALAND\")\n",
        "  props.pop(\"AWATER\")\n",
        "  props.pop(\"COUNTYFP\")\n",
        "  props.pop(\"COUNTYNS\")\n",
        "  props[\"fips_id\"] = int(props.pop(\"GEOID\"))\n",
        "  props.pop(\"LSAD\")\n",
        "  props[\"name\"] = props.pop(\"NAME\")\n",
        "  props[\"state_id\"] = int(props.pop(\"STATEFP\"))\n",
        "  props.pop(\"description\")\n",
        "  props.pop(\"styleUrl\")\n",
        "  props[\"is_a_state\"] = False"
      ],
      "execution_count": 8,
      "outputs": []
    },
    {
      "cell_type": "code",
      "metadata": {
        "id": "orvqposPCEAM"
      },
      "source": [
        "state_names = {entry[\"properties\"][\"state_id\"]: entry[\"properties\"][\"name\"]\n",
        "               for entry in states[\"features\"]}"
      ],
      "execution_count": 9,
      "outputs": []
    },
    {
      "cell_type": "code",
      "metadata": {
        "id": "GS3ic9RkCybt"
      },
      "source": [
        "with open(\"counties.json\", \"w\") as outfile:\n",
        "  json.dump(counties, outfile)"
      ],
      "execution_count": 10,
      "outputs": []
    },
    {
      "cell_type": "code",
      "metadata": {
        "id": "D7t2VcrgCz9x"
      },
      "source": [
        "with open(\"states.json\", \"w\") as outfile:\n",
        "  json.dump(states, outfile)"
      ],
      "execution_count": 11,
      "outputs": []
    },
    {
      "cell_type": "code",
      "metadata": {
        "id": "QXaiO74WC1j5"
      },
      "source": [
        "with open(\"state_names.json\", \"w\") as outfile:\n",
        "  json.dump(state_names, outfile)"
      ],
      "execution_count": 12,
      "outputs": []
    },
    {
      "cell_type": "code",
      "metadata": {
        "id": "BgAQW8mPC5zi",
        "colab": {
          "base_uri": "https://localhost:8080/"
        },
        "outputId": "3b44f199-b23a-4d7e-8ccf-db47fa0f2a9d"
      },
      "source": [
        "!tar -czvf json_us_geography.tar.gz counties.json states.json state_names.json"
      ],
      "execution_count": 14,
      "outputs": [
        {
          "output_type": "stream",
          "text": [
            "counties.json\n",
            "states.json\n",
            "state_names.json\n"
          ],
          "name": "stdout"
        }
      ]
    }
  ]
}